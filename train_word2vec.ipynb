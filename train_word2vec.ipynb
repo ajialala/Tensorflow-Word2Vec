{
 "cells": [
  {
   "cell_type": "code",
   "execution_count": 1,
   "metadata": {
    "collapsed": false
   },
   "outputs": [],
   "source": [
    "import collections\n",
    "import math\n",
    "import os\n",
    "import random\n",
    "import zipfile\n",
    "import urllib\n",
    "import numpy as np\n",
    "import tensorflow as tf"
   ]
  },
  {
   "cell_type": "markdown",
   "metadata": {},
   "source": [
    "### 1. 检查是否有数据集,如果没有在线下载"
   ]
  },
  {
   "cell_type": "code",
   "execution_count": 2,
   "metadata": {
    "collapsed": true
   },
   "outputs": [],
   "source": [
    "url = 'http://mattmahoney.net/dc/'\n",
    "\n",
    "def maybe_download(filename, expected_bytes):\n",
    "    if not os.path.exists(filename):\n",
    "        filename, _= urllib.request.urlretrieve(url+filename, filename)\n",
    "    statinfo = os.stat(filename)\n",
    "    if statinfo.st_size == expected_bytes:\n",
    "        print('Found and verified', filename)\n",
    "    else:\n",
    "        print(statinfo.st_size)\n",
    "        raise Exception('Failed to verify ' + filename + '.Can you get to it with a brower?')\n",
    "    return filename"
   ]
  },
  {
   "cell_type": "code",
   "execution_count": 3,
   "metadata": {
    "collapsed": false
   },
   "outputs": [
    {
     "name": "stdout",
     "output_type": "stream",
     "text": [
      "Found and verified text8.zip\n"
     ]
    }
   ],
   "source": [
    "filename = maybe_download('text8.zip',31344016)"
   ]
  },
  {
   "cell_type": "markdown",
   "metadata": {},
   "source": [
    "### 2. 解压下载的文件,并用tf.compat.as_str转换为单词的列表"
   ]
  },
  {
   "cell_type": "code",
   "execution_count": 4,
   "metadata": {
    "collapsed": true
   },
   "outputs": [],
   "source": [
    "def read_data(filename):\n",
    "    with zipfile.ZipFile(filename) as f:\n",
    "        # zipfile.ZipFile(filename).read(name[, pwd])获取zip文档内指定文件的二进制数据。\n",
    "        # zipfile.ZipFile(filename).namelist()获取zip文档内所有文件的名称列表\n",
    "        # tf.compat.as_str将字节或 unicode 转换为 bytes，使用 UTF-8 编码进行文本处理\n",
    "        data = tf.compat.as_str(f.read(f.namelist()[0])).split()                  \n",
    "    return data"
   ]
  },
  {
   "cell_type": "code",
   "execution_count": 5,
   "metadata": {
    "collapsed": false
   },
   "outputs": [
    {
     "name": "stdout",
     "output_type": "stream",
     "text": [
      "Data size 17005207\n"
     ]
    }
   ],
   "source": [
    "words = read_data(filename)\n",
    "print('Data size', len(words))"
   ]
  },
  {
   "cell_type": "code",
   "execution_count": 6,
   "metadata": {
    "collapsed": false
   },
   "outputs": [
    {
     "name": "stdout",
     "output_type": "stream",
     "text": [
      "<class 'list'>\n",
      "['anarchism', 'originated', 'as', 'a', 'term', 'of', 'abuse', 'first', 'used', 'against', 'early', 'working', 'class', 'radicals', 'including', 'the', 'diggers', 'of', 'the', 'english', 'revolution', 'and', 'the', 'sans', 'culottes', 'of', 'the', 'french', 'revolution', 'whilst']\n"
     ]
    }
   ],
   "source": [
    "print(type(words))\n",
    "print(words[:30])"
   ]
  },
  {
   "cell_type": "code",
   "execution_count": 7,
   "metadata": {
    "collapsed": false
   },
   "outputs": [
    {
     "data": {
      "text/plain": [
       "count     17005207\n",
       "unique      253854\n",
       "top            the\n",
       "freq       1061396\n",
       "dtype: object"
      ]
     },
     "execution_count": 7,
     "metadata": {},
     "output_type": "execute_result"
    }
   ],
   "source": [
    "import pandas as pd\n",
    "pd.Series(words).describe()"
   ]
  },
  {
   "cell_type": "markdown",
   "metadata": {},
   "source": [
    "### 3. 接下来创建vocabulary词汇表\n",
    "+ 使用collections.Counter统计单词列表中单词的频数,使用most_common获取top50000的单词作为vocabulary\n",
    "+ 创建一个字典,把top50000的词汇的vocabulary放入,以便快速查询,dic查询复杂度为O(1)\n",
    "+ 将全部单词转换为一系列的编号,top50000之外的的编号为0\n",
    "------------\n",
    "一些数据类型\n",
    "* count(长度50000)[['UNK', 418391],('the', 1061396),('of', 593677),('and', 416629),('one', 411764),........]\n",
    "* dictionary(长度50000){'UNK':0, 'the':1, 'of':2,.......}\n",
    "* reverse_dictionary(长度50000){0:'UNK', 1:'the', 2:'of',.......}\n",
    "* data(长度17005207)[5234, 3081, 12, 6, 195, 2, 3134, 46, 59, 156,......] 按照words的词顺序,每个词的编号"
   ]
  },
  {
   "cell_type": "code",
   "execution_count": 8,
   "metadata": {
    "collapsed": true
   },
   "outputs": [],
   "source": [
    "vocabulary_size = 50000\n",
    "def build_dataset(words):\n",
    "    count = [['UNK', -1]]\n",
    "    # extend() 函数用于在列表末尾一次性追加另一个序列中的多个值（用新列表扩展原来的列表）\n",
    "    count.extend(collections.Counter(words).most_common(vocabulary_size - 1)) \n",
    "    dictionary = dict()\n",
    "    for word, _ in count:\n",
    "        dictionary[word] = len(dictionary)\n",
    "    data = list()\n",
    "    unk_count = 0\n",
    "    for word in words:\n",
    "        if word in dictionary:\n",
    "            index = dictionary[word]\n",
    "        else:\n",
    "            index = 0\n",
    "            unk_count += 1\n",
    "        data.append(index)\n",
    "    count[0][1] = unk_count\n",
    "    reverse_dictionary = dict(zip(dictionary.values(), dictionary.keys())) # dictionary的键值互换\n",
    "    return data, count, dictionary, reverse_dictionary\n",
    "\n",
    "data, count, dictionary, reverse_dictionary = build_dataset(words)"
   ]
  },
  {
   "cell_type": "code",
   "execution_count": 9,
   "metadata": {
    "collapsed": true
   },
   "outputs": [],
   "source": [
    "del words # 删除原始单词列表,节约内存"
   ]
  },
  {
   "cell_type": "code",
   "execution_count": 10,
   "metadata": {
    "collapsed": false
   },
   "outputs": [
    {
     "name": "stdout",
     "output_type": "stream",
     "text": [
      "Most common words (+UNK) [['UNK', 418391], ('the', 1061396), ('of', 593677), ('and', 416629), ('one', 411764)]\n",
      "Sample data [5238, 3084, 12, 6, 195, 2, 3136, 46, 59, 156] ['anarchism', 'originated', 'as', 'a', 'term', 'of', 'abuse', 'first', 'used', 'against']\n"
     ]
    }
   ],
   "source": [
    "print('Most common words (+UNK)', count[:5])\n",
    "print('Sample data', data[:10], [reverse_dictionary[i] for i in data[:10]])"
   ]
  },
  {
   "cell_type": "markdown",
   "metadata": {},
   "source": [
    "### 4. 生成Word2Vec的训练样本\n",
    "用Skip-Gram模式(从目标单词反推语境),如果窗口大小为1，则将原始数据\"the quick brown fox jumped over the lazy dog\"可转为(quick,the),(quick,brown),(brown,quick),(brown,fox)等样本\n",
    "- batch_size: batch大小。\n",
    "- num_skips: 对每个单词生成样本数。他不能大于skip_window的两倍,并且batch_size必须是他的整数倍,确保每个batch包含一个单词的所有样本。\n",
    "- skip_window: 单词最远可以联系的距离。\n",
    "- span：对某个单词创建相关样本时会使用到的单词数量,包括目标单词本身和他前后的单词,因此,span=2*skip_window+1"
   ]
  },
  {
   "cell_type": "code",
   "execution_count": 11,
   "metadata": {
    "collapsed": true
   },
   "outputs": [],
   "source": [
    "data_index = 0\n",
    "def generate_batch(batch_size, num_skips, skip_window):\n",
    "    #　定义全局变量使得我们反复调用这个函数时可以遍历整个数据集\n",
    "    global data_index\n",
    "    # 使用assert确保满足前提条件\n",
    "    assert batch_size % num_skips == 0\n",
    "    assert num_skips <= 2 * skip_window\n",
    "    batch = np.ndarray(shape=(batch_size), dtype=np.int32)\n",
    "    labels = np.ndarray(shape=(batch_size, 1), dtype=np.int32)\n",
    "    span = 2 * skip_window + 1\n",
    "    # 最大容量为span的双向队列,在对deque使用append方法添加变量时,只会保留最后插入的span个变量\n",
    "    buffer = collections.deque(maxlen=span) \n",
    "    \n",
    "    # span个单词顺序装入buffer中作为初始值，此时buffer已填满\n",
    "    for _ in range(span):\n",
    "        buffer.append(data[data_index])\n",
    "        data_index = (data_index + 1) % len(data)\n",
    "    # 第一层循的batch_size // num_skips表示有batch_size // num_skips个目标单词\n",
    "    for i in range(batch_size // num_skips):\n",
    "        # buffer中第skip_window个变量为目标单词\n",
    "        target = skip_window\n",
    "        # 定义生成样本时需要避免的单词列表，首先填充目标单词本身作为初始化\n",
    "        targets_to_avoid = [ skip_window ]\n",
    "        # 对每个目标单词生成num_skips个样本\n",
    "        for j in range(num_skips):\n",
    "            # 先产生随机数，直到随机数不在targets_to_avoid中，代表可以使用的语境单词\n",
    "            while target in targets_to_avoid:\n",
    "                target = random.randint(0, span - 1)\n",
    "            # 把使用过的语境单词放入targets_to_avoid\n",
    "            targets_to_avoid.append(target)\n",
    "            # 产生一个样本，feature为目标词汇buffer[skip_window]，label为buffer[target]\n",
    "            batch[i * num_skips + j] = buffer[skip_window]\n",
    "            labels[i * num_skips + j, 0] = buffer[target]\n",
    "        # 在对一个目标单词生成完所有样本后，再读入下一个单词，即把滑窗向后移动一位\n",
    "        buffer.append(data[data_index])\n",
    "        data_index = (data_index + 1) % len(data)\n",
    "    return batch, labels"
   ]
  },
  {
   "cell_type": "markdown",
   "metadata": {},
   "source": [
    "测试generate_batch的功能:\n",
    "- 以第一个样本为例,3081为originated的编号,这个单词对应的语境是anarchism,anarchism的编号是5234"
   ]
  },
  {
   "cell_type": "code",
   "execution_count": 12,
   "metadata": {
    "collapsed": false
   },
   "outputs": [
    {
     "name": "stdout",
     "output_type": "stream",
     "text": [
      "3084 originated -> 5238 anarchism\n",
      "3084 originated -> 12 as\n",
      "12 as -> 3084 originated\n",
      "12 as -> 6 a\n",
      "6 a -> 195 term\n",
      "6 a -> 12 as\n",
      "195 term -> 2 of\n",
      "195 term -> 6 a\n"
     ]
    }
   ],
   "source": [
    "batch, labels = generate_batch(batch_size=8, num_skips=2, skip_window=1)\n",
    "for i in range(8):\n",
    "    print(batch[i], reverse_dictionary[batch[i]], '->', labels[i,0], reverse_dictionary[labels[i,0]])"
   ]
  },
  {
   "cell_type": "markdown",
   "metadata": {},
   "source": [
    "设置训练时的参数:"
   ]
  },
  {
   "cell_type": "code",
   "execution_count": 13,
   "metadata": {
    "collapsed": true
   },
   "outputs": [],
   "source": [
    "batch_size = 128\n",
    "embedding_size = 128 # 词向量的维度，一般是50-100这个范围内的值\n",
    "skip_window = 1\n",
    "num_skips = 2\n",
    "\n",
    "valid_size = 16 # 用来抽取的验证单词数\n",
    "valid_window = 100 # 验证单词只从频数最高的valid_window个里来选\n",
    "valid_examples = np.random.choice(valid_window, valid_size, replace=False) # 随机抽取的频数高的一些单词\n",
    "num_sampled = 64 # 训练时用来做负样本的噪声单词数量"
   ]
  },
  {
   "cell_type": "markdown",
   "metadata": {},
   "source": [
    "### 5. 定义Skip-Gram Word2Vec模型的网络结构\n",
    "- NCE Loss(Noise-Contrastive Estimation)"
   ]
  },
  {
   "cell_type": "code",
   "execution_count": 14,
   "metadata": {
    "collapsed": false
   },
   "outputs": [],
   "source": [
    "graph = tf.Graph()        # 创建一个tf.Graph\n",
    "with graph.as_default():  # 设置为默认Graph\n",
    "    # 输入接口\n",
    "    train_inputs = tf.placeholder(tf.int32, shape=[batch_size])\n",
    "    train_labels = tf.placeholder(tf.int32, shape=[batch_size, 1])\n",
    "    \n",
    "    # 将前面产生的valid_examples转为tensorflow中的constant\n",
    "    valid_dataset = tf.constant(valid_examples, dtype=tf.int32)\n",
    "\n",
    "    # 限定以下计算在CPU上操作,因为tf.nn.embedding_lookup在GPU上还没实现\n",
    "    with tf.device('/cpu:0'):\n",
    "        # 用tf.random_uniform随机生成50000个词,128维度的词向量\n",
    "        embeddings = tf.Variable(\n",
    "            tf.random_uniform([vocabulary_size, embedding_size], -1.0, 1.0))\n",
    "        # tf.nn.embedding_lookup查找train_inputs对应的embeddings\n",
    "        embed = tf.nn.embedding_lookup(embeddings, train_inputs)\n",
    "\n",
    "    # 构造NCE loss的变量\n",
    "    # tf.truncated_normal初始化NCE loss中的权重参数nce_weights\n",
    "    nce_weights = tf.Variable(\n",
    "        tf.truncated_normal([vocabulary_size, embedding_size], \n",
    "                            stddev=1.0 / math.sqrt(embedding_size)))\n",
    "    #  nce_biases初始化为零\n",
    "    nce_biases = tf.Variable(tf.zeros([vocabulary_size]))   \n",
    "\n",
    "    # 计算一个batch的平均NCE loss\n",
    "    # tf.nce_loss自动提取(draw)每个负标签的新样本\n",
    "    loss = tf.reduce_mean(tf.nn.nce_loss(weights=nce_weights,\n",
    "                                         biases=nce_biases,\n",
    "                                         labels=train_labels,\n",
    "                                         inputs=embed,\n",
    "                                         num_sampled=num_sampled,\n",
    "                                         num_classes=vocabulary_size))\n",
    "\n",
    "    # 构造梯度下降算法优化器,学习率设为1\n",
    "    optimizer = tf.train.GradientDescentOptimizer(1.0).minimize(loss)\n",
    "\n",
    "    # 得到每个单词词向量的L2范数\n",
    "    norm = tf.sqrt(tf.reduce_sum(tf.square(embeddings), 1, keep_dims=True))\n",
    "    # 再将embeddings除以其L2范数得到标准化后的normalized_embeddings\n",
    "    normalized_embeddings = embeddings / norm\n",
    "    valid_embeddings = tf.nn.embedding_lookup(normalized_embeddings, valid_dataset)  # tf.nn.embedding_lookup查询验证单词的嵌入向量\n",
    "    # 计算验证单词的嵌入向量与词汇表中所有单词的相似性\n",
    "    similarity = tf.matmul(valid_embeddings, normalized_embeddings, transpose_b=True)\n",
    "\n",
    "    init = tf.global_variables_initializer() # 初始化所有模型变量参数"
   ]
  },
  {
   "cell_type": "markdown",
   "metadata": {},
   "source": [
    "### 6. 开始训练模型"
   ]
  },
  {
   "cell_type": "code",
   "execution_count": 15,
   "metadata": {
    "collapsed": false,
    "scrolled": true
   },
   "outputs": [
    {
     "name": "stdout",
     "output_type": "stream",
     "text": [
      "Initialized\n",
      "Average loss at step  0 :  262.2593688964844\n",
      "Nearest to which: shortage, lemy, catiline, dots, twist, obstacles, poincar, mothra,\n",
      "Nearest to not: optimally, oxidizes, kinetics, libation, carvings, spin, humid, ikea,\n",
      "Nearest to system: deep, ludvig, intuitionistic, gandhi, delusional, anglian, reel, raptor,\n",
      "Nearest to zero: thespis, immobile, omission, hillary, childless, goeldi, cheap, scientific,\n",
      "Nearest to for: electrostatics, episcopalians, truman, mysterious, jag, adnan, rcc, presenter,\n",
      "Nearest to UNK: consort, tld, zen, ide, buttocks, praises, minimalism, faxes,\n",
      "Nearest to be: bestiary, vos, nacl, guns, bloomsbury, leads, nieces, exiled,\n",
      "Nearest to would: monitors, heliocentric, balts, repaired, thrower, accommodates, transmitted, appreciable,\n",
      "Nearest to called: guevara, orchestrated, essentially, timeline, computability, eagerly, waldorf, bermuda,\n",
      "Nearest to some: jezebel, pardoned, pmid, stationed, naismith, aichi, fermented, glu,\n",
      "Nearest to at: acadian, barroso, hallmarks, nights, dispatched, said, ferromagnetism, scopes,\n",
      "Nearest to eight: cannibalistic, disobedience, horizontal, pipers, alarmed, mooted, dmitri, opiate,\n",
      "Nearest to used: rails, icc, foote, hofstadter, peshitta, suicides, irresponsible, clutching,\n",
      "Nearest to other: counting, sadie, maus, bukem, scalars, conciliar, dundee, tries,\n",
      "Nearest to people: starfish, repealing, apparently, rig, paradoxically, bessarabia, herero, waltzes,\n",
      "Nearest to but: dredging, outlawing, fragile, erect, lukashenko, decay, cannonball, progressively,\n",
      "Average loss at step  2000 :  114.13486277103424\n",
      "Average loss at step  4000 :  52.21406371831894\n",
      "Average loss at step  6000 :  33.5157702075243\n",
      "Average loss at step  8000 :  23.668815959453582\n",
      "Average loss at step  10000 :  17.66778192090988\n",
      "Nearest to which: phi, agave, mengele, and, reginae, vs, towns, ir,\n",
      "Nearest to not: that, monica, to, pamphlet, spin, vs, future, rumors,\n",
      "Nearest to system: deep, intuitionistic, either, reel, participants, gandhi, columbia, resides,\n",
      "Nearest to zero: nine, gland, victoriae, austin, six, reginae, alpina, seven,\n",
      "Nearest to for: and, in, of, from, variable, by, hydrogen, truman,\n",
      "Nearest to UNK: phi, and, reginae, austin, vs, saints, victoriae, agave,\n",
      "Nearest to be: guns, is, ada, territory, leads, usual, overlooking, openly,\n",
      "Nearest to would: agree, tora, austin, transmitted, studied, involved, thrower, handling,\n",
      "Nearest to called: essentially, bermuda, timeline, tendencies, creation, week, marble, finalist,\n",
      "Nearest to some: alpina, the, liberties, stationed, UNK, an, vegetable, fermented,\n",
      "Nearest to at: in, targets, and, financial, is, cyanobacteria, of, victoriae,\n",
      "Nearest to eight: nine, victoriae, zero, succeeds, six, agave, austin, phi,\n",
      "Nearest to used: re, kg, located, round, language, terms, september, referred,\n",
      "Nearest to other: spiritualist, family, counting, utility, political, cars, tips, vs,\n",
      "Nearest to people: quarterback, get, apparently, austin, automatic, replacing, akira, victoriae,\n",
      "Nearest to but: vs, and, victoriae, propane, was, al, fragile, austin,\n",
      "Average loss at step  12000 :  14.145848143815995\n",
      "Average loss at step  14000 :  11.665069746732712\n",
      "Average loss at step  16000 :  10.07017636847496\n",
      "Average loss at step  18000 :  8.706924405932426\n",
      "Average loss at step  20000 :  7.726259689211846\n",
      "Nearest to which: and, that, it, one, dasyprocta, agave, reginae, vs,\n",
      "Nearest to not: to, also, that, monica, who, it, he, spin,\n",
      "Nearest to system: deep, intuitionistic, dasyprocta, msg, lipids, participants, gandhi, gel,\n",
      "Nearest to zero: nine, eight, seven, six, five, three, four, agouti,\n",
      "Nearest to for: in, and, of, by, from, with, is, at,\n",
      "Nearest to UNK: dasyprocta, austin, agouti, reginae, gland, phi, and, two,\n",
      "Nearest to be: have, is, was, by, were, guns, are, demands,\n",
      "Nearest to would: birkenau, dasyprocta, agree, to, homogeneity, monitors, may, adder,\n",
      "Nearest to called: essentially, bermuda, marble, timeline, alphonse, week, orchestrated, probabilistic,\n",
      "Nearest to some: the, liberties, alpina, agouti, amex, stationed, belladonna, their,\n",
      "Nearest to at: in, and, by, targets, scopes, is, for, dasyprocta,\n",
      "Nearest to eight: nine, six, zero, seven, victoriae, five, dasyprocta, three,\n",
      "Nearest to used: located, re, hoover, kg, referred, round, dasyprocta, ames,\n",
      "Nearest to other: counting, political, iota, family, spiritualist, utility, thoreau, are,\n",
      "Nearest to people: agate, quarterback, get, automatic, astoria, replacing, circ, repealing,\n",
      "Nearest to but: yin, vs, and, is, was, victoriae, three, that,\n",
      "Average loss at step  22000 :  7.273863312602043\n",
      "Average loss at step  24000 :  6.909163401126862\n",
      "Average loss at step  26000 :  6.711674187541008\n",
      "Average loss at step  28000 :  6.222605469703674\n",
      "Average loss at step  30000 :  6.151004239320755\n",
      "Nearest to which: that, and, it, this, also, chalukyas, abitibi, dasyprocta,\n",
      "Nearest to not: to, also, monica, it, who, rumors, dasyprocta, spin,\n",
      "Nearest to system: intuitionistic, dasyprocta, deep, participants, enol, onscreen, campania, msg,\n",
      "Nearest to zero: eight, six, five, seven, nine, four, three, agouti,\n",
      "Nearest to for: with, of, and, in, by, from, at, dasyprocta,\n",
      "Nearest to UNK: dasyprocta, austin, abitibi, abet, agouti, gland, reginae, phi,\n",
      "Nearest to be: have, is, was, were, by, are, been, not,\n",
      "Nearest to would: may, to, birkenau, must, dasyprocta, will, agree, homogeneity,\n",
      "Nearest to called: essentially, marble, bermuda, timeline, waldorf, week, abitibi, alphonse,\n",
      "Nearest to some: many, chalukyas, their, agouti, several, alpina, belladonna, the,\n",
      "Nearest to at: in, and, by, targets, for, dasyprocta, with, abitibi,\n",
      "Nearest to eight: nine, six, seven, five, four, three, zero, two,\n",
      "Nearest to used: re, located, hoover, referred, abet, belladonna, kg, disappear,\n",
      "Nearest to other: abitibi, political, counting, iota, family, abkhazians, cassiopeia, copenhagen,\n",
      "Nearest to people: agate, UNK, astoria, automatic, circ, rig, get, quarterback,\n",
      "Nearest to but: yin, vs, and, three, thyestes, victoriae, abitibi, is,\n",
      "Average loss at step  32000 :  5.871892402529716\n",
      "Average loss at step  34000 :  5.866314893841744\n",
      "Average loss at step  36000 :  5.693479481935501\n",
      "Average loss at step  38000 :  5.267802177667618\n",
      "Average loss at step  40000 :  5.428956305265427\n",
      "Nearest to which: that, it, and, this, also, abitibi, dasyprocta, one,\n",
      "Nearest to not: also, it, monica, to, dasyprocta, be, now, rumors,\n",
      "Nearest to system: dasyprocta, intuitionistic, participants, disdain, deep, msg, abitibi, onscreen,\n",
      "Nearest to zero: seven, eight, five, six, nine, four, three, agouti,\n",
      "Nearest to for: with, in, and, of, dasyprocta, at, agouti, from,\n",
      "Nearest to UNK: dasyprocta, victoriae, agouti, gland, abitibi, abet, austin, agave,\n",
      "Nearest to be: have, were, by, is, are, been, was, not,\n",
      "Nearest to would: may, must, will, birkenau, should, could, dasyprocta, to,\n",
      "Nearest to called: essentially, marble, bermuda, and, week, abitibi, waldorf, prophylactic,\n",
      "Nearest to some: many, several, the, their, these, any, chalukyas, belladonna,\n",
      "Nearest to at: in, targets, dasyprocta, on, five, abitibi, for, from,\n",
      "Nearest to eight: nine, seven, six, five, four, three, zero, agouti,\n",
      "Nearest to used: referred, located, abet, hoover, concert, agouti, dasyprocta, ois,\n",
      "Nearest to other: political, counting, abitibi, these, iota, abkhazians, four, family,\n",
      "Nearest to people: agate, astoria, rig, diatonic, get, quarterback, phenotype, nude,\n",
      "Nearest to but: and, yin, vs, however, thyestes, that, three, abitibi,\n",
      "Average loss at step  42000 :  5.26903610086441\n",
      "Average loss at step  44000 :  5.309908304691315\n",
      "Average loss at step  46000 :  5.269916570544243\n",
      "Average loss at step  48000 :  5.026716734051704\n",
      "Average loss at step  50000 :  5.175360440611839\n",
      "Nearest to which: that, this, it, also, and, abitibi, mya, who,\n",
      "Nearest to not: it, also, now, monica, be, to, usually, who,\n",
      "Nearest to system: participants, disdain, intuitionistic, caravans, onscreen, enol, reel, delusional,\n",
      "Nearest to zero: seven, five, nine, six, eight, four, three, agouti,\n",
      "Nearest to for: and, of, in, with, at, dasyprocta, agouti, from,\n",
      "Nearest to UNK: phi, austin, agouti, abet, dasyprocta, reginae, gland, three,\n",
      "Nearest to be: have, were, was, by, been, is, are, not,\n",
      "Nearest to would: may, will, must, could, should, birkenau, can, to,\n",
      "Nearest to called: essentially, marble, thibetanus, bermuda, week, prophylactic, and, abitibi,\n",
      "Nearest to some: many, several, these, any, their, the, chalukyas, belladonna,\n",
      "Nearest to at: in, on, targets, dasyprocta, with, abitibi, for, asymptotes,\n",
      "Nearest to eight: six, seven, nine, four, five, three, zero, agouti,\n",
      "Nearest to used: prism, referred, located, hoover, abet, hubs, disappear, concert,\n",
      "Nearest to other: these, political, counting, two, abitibi, iota, some, thoreau,\n",
      "Nearest to people: astoria, agate, diatonic, circ, mya, prism, nguni, zip,\n",
      "Nearest to but: and, prism, however, yin, vs, three, abitibi, victoriae,\n",
      "Average loss at step  52000 :  5.18881467628479\n",
      "Average loss at step  54000 :  5.1157744046449665\n",
      "Average loss at step  56000 :  5.062825873851776\n",
      "Average loss at step  58000 :  5.109013167858124\n",
      "Average loss at step  60000 :  4.950749087095261\n",
      "Nearest to which: that, this, it, also, abitibi, what, who, dasyprocta,\n",
      "Nearest to not: it, monica, now, also, usually, they, to, dasyprocta,\n",
      "Nearest to system: michelob, disdain, participants, dasyprocta, callithrix, thibetanus, caravans, accommodates,\n",
      "Nearest to zero: eight, six, seven, five, four, nine, three, agouti,\n",
      "Nearest to for: of, callithrix, and, michelob, in, or, agouti, dasyprocta,\n",
      "Nearest to UNK: callithrix, dasyprocta, tamarin, abet, michelob, agouti, abitibi, reginae,\n",
      "Nearest to be: have, been, were, was, by, is, are, not,\n",
      "Nearest to would: may, will, must, could, can, should, birkenau, to,\n",
      "Nearest to called: essentially, marble, thibetanus, UNK, week, breakthroughs, prophylactic, elizabethan,\n",
      "Nearest to some: many, these, several, any, their, michelob, callithrix, those,\n",
      "Nearest to at: in, on, dasyprocta, targets, with, asymptotes, cebus, five,\n",
      "Nearest to eight: nine, six, seven, four, five, zero, three, callithrix,\n",
      "Nearest to used: prism, referred, sylia, located, microcebus, hubs, abet, hoover,\n",
      "Nearest to other: these, political, counting, some, iota, callithrix, abitibi, many,\n",
      "Nearest to people: callithrix, diatonic, agate, astoria, members, circ, phenotype, zip,\n",
      "Nearest to but: however, and, prism, callithrix, yin, although, abitibi, that,\n",
      "Average loss at step  62000 :  4.8021080169677735\n",
      "Average loss at step  64000 :  4.800954817056656\n",
      "Average loss at step  66000 :  4.962004930019378\n",
      "Average loss at step  68000 :  4.923379508495331\n",
      "Average loss at step  70000 :  4.775116356372833\n",
      "Nearest to which: that, this, it, also, what, abitibi, and, but,\n",
      "Nearest to not: now, it, also, be, usually, monica, to, they,\n",
      "Nearest to system: disdain, participants, michelob, dasyprocta, onscreen, thibetanus, caravans, callithrix,\n",
      "Nearest to zero: eight, six, five, seven, nine, four, three, agouti,\n",
      "Nearest to for: in, callithrix, of, orser, michelob, and, against, agouti,\n",
      "Nearest to UNK: callithrix, dasyprocta, michelob, mitral, tamarin, austin, agouti, abitibi,\n",
      "Nearest to be: been, have, by, were, are, is, was, not,\n",
      "Nearest to would: may, will, can, could, must, should, to, birkenau,\n",
      "Nearest to called: essentially, marble, thibetanus, week, breakthroughs, elizabethan, prophylactic, included,\n",
      "Nearest to some: many, these, several, any, their, the, all, michelob,\n",
      "Nearest to at: in, dasyprocta, on, upanija, cebus, during, abitibi, five,\n",
      "Nearest to eight: six, nine, seven, four, five, zero, three, callithrix,\n",
      "Nearest to used: prism, referred, sylia, located, microcebus, hubs, abet, agouti,\n",
      "Nearest to other: these, some, many, callithrix, political, counting, various, several,\n",
      "Nearest to people: members, diatonic, callithrix, phenotype, agate, zip, astoria, serpents,\n",
      "Nearest to but: however, and, prism, upanija, callithrix, abitibi, tamarin, although,\n",
      "Average loss at step  72000 :  4.805505349874497\n",
      "Average loss at step  74000 :  4.778193008482456\n",
      "Average loss at step  76000 :  4.876973524332047\n",
      "Average loss at step  78000 :  4.815652981042862\n",
      "Average loss at step  80000 :  4.8189041005373\n",
      "Nearest to which: this, that, it, what, abitibi, also, but, mitral,\n",
      "Nearest to not: now, usually, be, they, it, still, also, you,\n",
      "Nearest to system: participants, disdain, michelob, drug, dasyprocta, either, abitibi, onscreen,\n",
      "Nearest to zero: eight, five, seven, six, four, nine, three, agouti,\n",
      "Nearest to for: cegep, callithrix, in, michelob, orser, agouti, against, and,\n",
      "Nearest to UNK: callithrix, marmoset, dasyprocta, mitral, tamarin, cegep, michelob, victoriae,\n",
      "Nearest to be: been, have, were, by, is, was, are, not,\n",
      "Nearest to would: may, will, can, could, must, should, might, birkenau,\n",
      "Nearest to called: essentially, thibetanus, marble, breakthroughs, week, prophylactic, elizabethan, known,\n",
      "Nearest to some: many, these, several, any, their, all, those, other,\n",
      "Nearest to at: in, during, on, dasyprocta, five, upanija, abitibi, cebus,\n",
      "Nearest to eight: six, seven, nine, five, four, zero, three, callithrix,\n",
      "Nearest to used: referred, prism, located, microcebus, sylia, found, hubs, concert,\n",
      "Nearest to other: some, these, many, various, several, political, callithrix, michelob,\n",
      "Nearest to people: members, diatonic, callithrix, phenotype, zip, agate, astoria, mya,\n",
      "Nearest to but: however, and, prism, upanija, although, abitibi, clodius, cegep,\n",
      "Average loss at step  82000 :  4.798690729141235\n",
      "Average loss at step  84000 :  4.7796049995422365\n",
      "Average loss at step  86000 :  4.771735048413277\n",
      "Average loss at step  88000 :  4.694331782817841\n",
      "Average loss at step  90000 :  4.752673213720322\n",
      "Nearest to which: that, this, what, abitibi, it, also, but, and,\n",
      "Nearest to not: they, now, still, it, usually, be, rarely, also,\n",
      "Nearest to system: participants, michelob, dasyprocta, disdain, abitibi, drug, callithrix, thibetanus,\n",
      "Nearest to zero: five, eight, seven, six, nine, four, three, agouti,\n",
      "Nearest to for: cegep, callithrix, of, against, orser, in, agouti, michelob,\n",
      "Nearest to UNK: callithrix, marmoset, tamarin, michelob, cegep, dasyprocta, abet, mitral,\n",
      "Nearest to be: been, have, is, were, was, by, are, become,\n",
      "Nearest to would: will, may, could, can, must, should, might, birkenau,\n",
      "Nearest to called: essentially, thibetanus, marble, breakthroughs, week, prophylactic, elizabethan, computability,\n",
      "Nearest to some: many, several, these, any, all, both, those, most,\n",
      "Nearest to at: in, on, during, upanija, with, dasyprocta, five, under,\n",
      "Nearest to eight: seven, six, five, nine, four, zero, three, callithrix,\n",
      "Nearest to used: referred, prism, located, found, known, seen, microcebus, able,\n",
      "Nearest to other: some, various, these, many, several, globemaster, callithrix, political,\n",
      "Nearest to people: members, diatonic, callithrix, phenotype, agate, serpents, zip, sugars,\n",
      "Nearest to but: however, and, prism, although, which, abitibi, cegep, dasyprocta,\n",
      "Average loss at step  92000 :  4.712599433302879\n",
      "Average loss at step  94000 :  4.623761523365975\n",
      "Average loss at step  96000 :  4.718782477974892\n",
      "Average loss at step  98000 :  4.624521274328232\n",
      "Average loss at step  100000 :  4.684952354669571\n",
      "Nearest to which: that, this, what, it, abitibi, also, and, but,\n",
      "Nearest to not: they, now, still, usually, rarely, therefore, it, also,\n",
      "Nearest to system: participants, systems, disdain, drug, dasyprocta, abitibi, michelob, thibetanus,\n",
      "Nearest to zero: five, eight, seven, four, six, nine, three, callithrix,\n",
      "Nearest to for: cegep, callithrix, against, michelob, orser, if, agouti, and,\n",
      "Nearest to UNK: callithrix, marmoset, dasyprocta, mitral, tamarin, michelob, cegep, aquila,\n",
      "Nearest to be: been, have, are, were, by, become, was, being,\n",
      "Nearest to would: will, may, can, could, must, should, might, birkenau,\n",
      "Nearest to called: UNK, essentially, thibetanus, and, marble, breakthroughs, computability, elizabethan,\n",
      "Nearest to some: many, these, several, any, all, both, those, other,\n",
      "Nearest to at: in, during, on, under, upanija, with, dasyprocta, for,\n",
      "Nearest to eight: seven, nine, six, five, four, zero, three, callithrix,\n",
      "Nearest to used: referred, prism, known, found, located, microcebus, able, abet,\n",
      "Nearest to other: some, various, these, many, globemaster, several, callithrix, michelob,\n",
      "Nearest to people: members, callithrix, diatonic, those, silvestris, phenotype, circ, sugars,\n",
      "Nearest to but: however, and, although, prism, abitibi, though, clodius, or,\n"
     ]
    }
   ],
   "source": [
    "num_steps = 100001  # 定义最大迭代次数为100000次\n",
    "\n",
    "with tf.Session(graph=graph) as session:      # 创建并设置默认的session\n",
    "    init.run()   # 在使用session之前,初始化所有模型变量参数\n",
    "    print(\"Initialized\")\n",
    "\n",
    "    average_loss = 0\n",
    "    for step in range(num_steps):\n",
    "        # 在每一步迭代中先使用generate_batch生成一个batch的inputs和labels\n",
    "        batch_inputs, batch_labels = generate_batch(batch_size, num_skips, skip_window)    \n",
    "        feed_dict = {train_inputs : batch_inputs, train_labels : batch_labels} # 然后把他们送入到输入中\n",
    "\n",
    "        # 执行一次优化器运算(即一次参数更新)和损失运算\n",
    "        _, loss_val = session.run([optimizer, loss], feed_dict=feed_dict)\n",
    "        average_loss += loss_val # 将loss累计到average_loss\n",
    "        \n",
    "        # 之后每2000次循环一次,计算平均loss并显示出来\n",
    "        if step % 2000 == 0:\n",
    "            if step > 0:\n",
    "                average_loss /= 2000\n",
    "            print(\"Average loss at step \", step, \": \", average_loss)\n",
    "            average_loss = 0\n",
    "\n",
    "        # 每10000次循环,计算一次验证单词与全部单词的相似度,并将与每个验证单词最相似的8个单词展现出来\n",
    "        # Note that this is expensive (~20% slowdown if computed every 500 steps)\n",
    "        if step % 10000 == 0:\n",
    "            sim = similarity.eval()\n",
    "            for i in range(valid_size):\n",
    "                valid_word = reverse_dictionary[valid_examples[i]]\n",
    "                top_k = 8 # number of nearest neighbors\n",
    "                nearest = (-sim[i, :]).argsort()[1:top_k+1]\n",
    "                log_str = \"Nearest to %s:\" % valid_word\n",
    "                for k in range(top_k):\n",
    "                    close_word = reverse_dictionary[nearest[k]]\n",
    "                    log_str = \"%s %s,\" % (log_str, close_word)\n",
    "                print(log_str)\n",
    "    final_embeddings = normalized_embeddings.eval()"
   ]
  },
  {
   "cell_type": "markdown",
   "metadata": {},
   "source": [
    "### 7. 可视化Word2Vec词向量"
   ]
  },
  {
   "cell_type": "code",
   "execution_count": 16,
   "metadata": {
    "collapsed": true
   },
   "outputs": [],
   "source": [
    "def plot_with_labels(low_dim_embs, labels, filename='tsne.png'):\n",
    "    assert low_dim_embs.shape[0] >= len(labels), \"More labels than embeddings\"\n",
    "    plt.figure(figsize=(18, 18))  #in inches\n",
    "    for i, label in enumerate(labels):\n",
    "        x, y = low_dim_embs[i,:]\n",
    "        # 显示散点图\n",
    "        plt.scatter(x, y)\n",
    "        #展示单词本身\n",
    "        plt.annotate(label,\n",
    "                    xy=(x, y),\n",
    "                    xytext=(5, 2),\n",
    "                    textcoords='offset points',\n",
    "                    ha='right',\n",
    "                    va='bottom')\n",
    "\n",
    "    plt.savefig(filename)"
   ]
  },
  {
   "cell_type": "code",
   "execution_count": 17,
   "metadata": {
    "collapsed": false
   },
   "outputs": [],
   "source": [
    "try:\n",
    "    from sklearn.manifold import TSNE\n",
    "    import matplotlib.pyplot as plt\n",
    "\n",
    "    # 降维,降到2维\n",
    "    tsne = TSNE(perplexity=30, n_components=2, init='pca', n_iter=5000)\n",
    "    plot_only = 200 # 显示词频最高的200个词\n",
    "    low_dim_embs = tsne.fit_transform(final_embeddings[:plot_only,:])\n",
    "    labels = [reverse_dictionary[i] for i in range(plot_only)]\n",
    "    plot_with_labels(low_dim_embs, labels)\n",
    "\n",
    "except ImportError:\n",
    "    print(\"Please install sklearn, matplotlib, and scipy to visualize embeddings.\")"
   ]
  }
 ],
 "metadata": {
  "anaconda-cloud": {},
  "kernelspec": {
   "display_name": "Python [default]",
   "language": "python",
   "name": "python3"
  },
  "language_info": {
   "codemirror_mode": {
    "name": "ipython",
    "version": 3
   },
   "file_extension": ".py",
   "mimetype": "text/x-python",
   "name": "python",
   "nbconvert_exporter": "python",
   "pygments_lexer": "ipython3",
   "version": "3.5.2"
  }
 },
 "nbformat": 4,
 "nbformat_minor": 2
}
